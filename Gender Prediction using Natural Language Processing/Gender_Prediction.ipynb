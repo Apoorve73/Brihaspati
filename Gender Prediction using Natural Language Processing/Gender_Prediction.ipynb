{
  "nbformat": 4,
  "nbformat_minor": 0,
  "metadata": {
    "colab": {
      "name": "Gender Prediction.ipynb",
      "provenance": [],
      "authorship_tag": "ABX9TyPd5CxzjsdB0ImtfAFUYOog",
      "include_colab_link": true
    },
    "kernelspec": {
      "name": "python3",
      "display_name": "Python 3"
    }
  },
  "cells": [
    {
      "cell_type": "markdown",
      "metadata": {
        "id": "view-in-github",
        "colab_type": "text"
      },
      "source": [
        "<a href=\"https://colab.research.google.com/github/HarshCasper/Brihaspati/blob/master/Gender%20Prediction%20using%20Natural%20Language%20Processing/Gender_Prediction.ipynb\" target=\"_parent\"><img src=\"https://colab.research.google.com/assets/colab-badge.svg\" alt=\"Open In Colab\"/></a>"
      ]
    },
    {
      "cell_type": "code",
      "metadata": {
        "id": "S-kvbAKRcPRL",
        "colab_type": "code",
        "colab": {}
      },
      "source": [
        "import nltk\n",
        "import random\n",
        "from sklearn.ensemble import RandomForestClassifier"
      ],
      "execution_count": 0,
      "outputs": []
    },
    {
      "cell_type": "code",
      "metadata": {
        "id": "Cv_OyseMc71o",
        "colab_type": "code",
        "outputId": "fedd832f-7160-4785-e3a1-cf5987825aec",
        "colab": {
          "base_uri": "https://localhost:8080/",
          "height": 50
        }
      },
      "source": [
        "\n",
        "nltk.download('names')\n",
        "from nltk.corpus import names"
      ],
      "execution_count": 0,
      "outputs": [
        {
          "output_type": "stream",
          "text": [
            "[nltk_data] Downloading package names to /root/nltk_data...\n",
            "[nltk_data]   Unzipping corpora/names.zip.\n"
          ],
          "name": "stdout"
        }
      ]
    },
    {
      "cell_type": "code",
      "metadata": {
        "id": "fqqax5Y2dERA",
        "colab_type": "code",
        "colab": {}
      },
      "source": [
        "labeled_names=([(name,'male') for name in names.words('male.txt')]\\\n",
        "               +[(name,'female') for name in names.words('female.txt')])"
      ],
      "execution_count": 0,
      "outputs": []
    },
    {
      "cell_type": "code",
      "metadata": {
        "id": "UwFZLAc3dWZy",
        "colab_type": "code",
        "colab": {}
      },
      "source": [
        "random.shuffle(labeled_names)"
      ],
      "execution_count": 0,
      "outputs": []
    },
    {
      "cell_type": "code",
      "metadata": {
        "id": "sy8rFhXQdb_I",
        "colab_type": "code",
        "outputId": "dc8ff72b-eb97-4095-9a9b-06efe03f6bef",
        "colab": {
          "base_uri": "https://localhost:8080/",
          "height": 34
        }
      },
      "source": [
        "train_names=labeled_names[1500:]\n",
        "devtest_names=labeled_names[500:1500]\n",
        "test_names=labeled_names[:500]\n",
        "len(labeled_names)"
      ],
      "execution_count": 0,
      "outputs": [
        {
          "output_type": "execute_result",
          "data": {
            "text/plain": [
              "7944"
            ]
          },
          "metadata": {
            "tags": []
          },
          "execution_count": 5
        }
      ]
    },
    {
      "cell_type": "code",
      "metadata": {
        "id": "n6L8a04fdn0m",
        "colab_type": "code",
        "colab": {}
      },
      "source": [
        "def gender_features(word):\n",
        "  return {'first_letter':word[0],\n",
        "          'last_letter':word[-1],\n",
        "          'first2_letters':word[:2],\n",
        "          'last2_letters':word[-2:]\n",
        "          }"
      ],
      "execution_count": 0,
      "outputs": []
    },
    {
      "cell_type": "code",
      "metadata": {
        "id": "zThe0SYHd_o4",
        "colab_type": "code",
        "colab": {}
      },
      "source": [
        "train_features=[(gender_features(n),gender) for (n,gender) in train_names]\n",
        "devtest_features=[(gender_features(n),gender) for (n,gender) in devtest_names]\n",
        "test_features=[(gender_features(n),gender) for (n,gender) in test_names]"
      ],
      "execution_count": 0,
      "outputs": []
    },
    {
      "cell_type": "code",
      "metadata": {
        "id": "YEiYgn2CeTKg",
        "colab_type": "code",
        "colab": {}
      },
      "source": [
        "classifier=nltk.NaiveBayesClassifier.train(train_features)"
      ],
      "execution_count": 0,
      "outputs": []
    },
    {
      "cell_type": "code",
      "metadata": {
        "id": "v3EG3uateYyd",
        "colab_type": "code",
        "outputId": "510100e9-084d-4e2a-b235-f1b5cb676c2b",
        "colab": {
          "base_uri": "https://localhost:8080/",
          "height": 34
        }
      },
      "source": [
        "classifier.classify(gender_features('Dinesh Kumar'))"
      ],
      "execution_count": 0,
      "outputs": [
        {
          "output_type": "execute_result",
          "data": {
            "text/plain": [
              "'male'"
            ]
          },
          "metadata": {
            "tags": []
          },
          "execution_count": 10
        }
      ]
    },
    {
      "cell_type": "code",
      "metadata": {
        "id": "uiABiEoFegPM",
        "colab_type": "code",
        "outputId": "8bd22e09-c1c1-459f-d01f-7953130c56f9",
        "colab": {
          "base_uri": "https://localhost:8080/",
          "height": 34
        }
      },
      "source": [
        "print(nltk.classify.accuracy(classifier,devtest_features))"
      ],
      "execution_count": 0,
      "outputs": [
        {
          "output_type": "stream",
          "text": [
            "0.772\n"
          ],
          "name": "stdout"
        }
      ]
    },
    {
      "cell_type": "code",
      "metadata": {
        "id": "YFV6M4B-eote",
        "colab_type": "code",
        "outputId": "08044fdb-166a-4ca2-ab3f-dc3589912393",
        "colab": {
          "base_uri": "https://localhost:8080/",
          "height": 34
        }
      },
      "source": [
        "print(nltk.classify.accuracy(classifier,test_features))"
      ],
      "execution_count": 0,
      "outputs": [
        {
          "output_type": "stream",
          "text": [
            "0.802\n"
          ],
          "name": "stdout"
        }
      ]
    },
    {
      "cell_type": "code",
      "metadata": {
        "id": "j7xeXobIetdu",
        "colab_type": "code",
        "colab": {}
      },
      "source": [
        ""
      ],
      "execution_count": 0,
      "outputs": []
    }
  ]
}