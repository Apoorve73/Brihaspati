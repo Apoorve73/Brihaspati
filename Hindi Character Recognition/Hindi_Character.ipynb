{
  "nbformat": 4,
  "nbformat_minor": 0,
  "metadata": {
    "kernelspec": {
      "display_name": "Python 3",
      "language": "python",
      "name": "python3"
    },
    "language_info": {
      "codemirror_mode": {
        "name": "ipython",
        "version": 3
      },
      "file_extension": ".py",
      "mimetype": "text/x-python",
      "name": "python",
      "nbconvert_exporter": "python",
      "pygments_lexer": "ipython3",
      "version": "3.7.3"
    },
    "colab": {
      "name": "Hindi Character.ipynb",
      "provenance": [],
      "include_colab_link": true
    }
  },
  "cells": [
    {
      "cell_type": "markdown",
      "metadata": {
        "id": "view-in-github",
        "colab_type": "text"
      },
      "source": [
        "<a href=\"https://colab.research.google.com/github/HarshCasper/Brihaspati/blob/master/Hindi%20Character%20Recognition/Hindi_Character.ipynb\" target=\"_parent\"><img src=\"https://colab.research.google.com/assets/colab-badge.svg\" alt=\"Open In Colab\"/></a>"
      ]
    },
    {
      "cell_type": "code",
      "metadata": {
        "id": "2RVtxt7otZow",
        "colab_type": "code",
        "colab": {}
      },
      "source": [
        "import pandas as pd\n",
        "import numpy as np\n",
        "import matplotlib.pyplot as plt\n",
        "import seaborn as sns\n",
        "from sklearn.model_selection import train_test_split\n",
        "from keras.models import Sequential\n",
        "from keras.layers import Dense\n",
        "from keras.models import Model"
      ],
      "execution_count": 0,
      "outputs": []
    },
    {
      "cell_type": "code",
      "metadata": {
        "id": "RaEgbrautZo8",
        "colab_type": "code",
        "colab": {}
      },
      "source": [
        "dataset = pd.read_csv(r\"C:\\Users\\My PC\\Downloads\\devanagari-character-set\\data.csv\")"
      ],
      "execution_count": 0,
      "outputs": []
    },
    {
      "cell_type": "code",
      "metadata": {
        "id": "QSdzJIX9tZpA",
        "colab_type": "code",
        "colab": {},
        "outputId": "2ce7c950-6e5d-43ca-ea59-c4761e646942"
      },
      "source": [
        "dataset.head()"
      ],
      "execution_count": 0,
      "outputs": [
        {
          "output_type": "execute_result",
          "data": {
            "text/html": [
              "<div>\n",
              "<style scoped>\n",
              "    .dataframe tbody tr th:only-of-type {\n",
              "        vertical-align: middle;\n",
              "    }\n",
              "\n",
              "    .dataframe tbody tr th {\n",
              "        vertical-align: top;\n",
              "    }\n",
              "\n",
              "    .dataframe thead th {\n",
              "        text-align: right;\n",
              "    }\n",
              "</style>\n",
              "<table border=\"1\" class=\"dataframe\">\n",
              "  <thead>\n",
              "    <tr style=\"text-align: right;\">\n",
              "      <th></th>\n",
              "      <th>pixel_0000</th>\n",
              "      <th>pixel_0001</th>\n",
              "      <th>pixel_0002</th>\n",
              "      <th>pixel_0003</th>\n",
              "      <th>pixel_0004</th>\n",
              "      <th>pixel_0005</th>\n",
              "      <th>pixel_0006</th>\n",
              "      <th>pixel_0007</th>\n",
              "      <th>pixel_0008</th>\n",
              "      <th>pixel_0009</th>\n",
              "      <th>...</th>\n",
              "      <th>pixel_1015</th>\n",
              "      <th>pixel_1016</th>\n",
              "      <th>pixel_1017</th>\n",
              "      <th>pixel_1018</th>\n",
              "      <th>pixel_1019</th>\n",
              "      <th>pixel_1020</th>\n",
              "      <th>pixel_1021</th>\n",
              "      <th>pixel_1022</th>\n",
              "      <th>pixel_1023</th>\n",
              "      <th>character</th>\n",
              "    </tr>\n",
              "  </thead>\n",
              "  <tbody>\n",
              "    <tr>\n",
              "      <th>0</th>\n",
              "      <td>0</td>\n",
              "      <td>0</td>\n",
              "      <td>0</td>\n",
              "      <td>0</td>\n",
              "      <td>0</td>\n",
              "      <td>0</td>\n",
              "      <td>0</td>\n",
              "      <td>0</td>\n",
              "      <td>0</td>\n",
              "      <td>0</td>\n",
              "      <td>...</td>\n",
              "      <td>0</td>\n",
              "      <td>0</td>\n",
              "      <td>0</td>\n",
              "      <td>0</td>\n",
              "      <td>0</td>\n",
              "      <td>0</td>\n",
              "      <td>0</td>\n",
              "      <td>0</td>\n",
              "      <td>0</td>\n",
              "      <td>character_01_ka</td>\n",
              "    </tr>\n",
              "    <tr>\n",
              "      <th>1</th>\n",
              "      <td>0</td>\n",
              "      <td>0</td>\n",
              "      <td>0</td>\n",
              "      <td>0</td>\n",
              "      <td>0</td>\n",
              "      <td>0</td>\n",
              "      <td>0</td>\n",
              "      <td>0</td>\n",
              "      <td>0</td>\n",
              "      <td>0</td>\n",
              "      <td>...</td>\n",
              "      <td>0</td>\n",
              "      <td>0</td>\n",
              "      <td>0</td>\n",
              "      <td>0</td>\n",
              "      <td>0</td>\n",
              "      <td>0</td>\n",
              "      <td>0</td>\n",
              "      <td>0</td>\n",
              "      <td>0</td>\n",
              "      <td>character_01_ka</td>\n",
              "    </tr>\n",
              "    <tr>\n",
              "      <th>2</th>\n",
              "      <td>0</td>\n",
              "      <td>0</td>\n",
              "      <td>0</td>\n",
              "      <td>0</td>\n",
              "      <td>0</td>\n",
              "      <td>0</td>\n",
              "      <td>0</td>\n",
              "      <td>0</td>\n",
              "      <td>0</td>\n",
              "      <td>0</td>\n",
              "      <td>...</td>\n",
              "      <td>0</td>\n",
              "      <td>0</td>\n",
              "      <td>0</td>\n",
              "      <td>0</td>\n",
              "      <td>0</td>\n",
              "      <td>0</td>\n",
              "      <td>0</td>\n",
              "      <td>0</td>\n",
              "      <td>0</td>\n",
              "      <td>character_01_ka</td>\n",
              "    </tr>\n",
              "    <tr>\n",
              "      <th>3</th>\n",
              "      <td>0</td>\n",
              "      <td>0</td>\n",
              "      <td>0</td>\n",
              "      <td>0</td>\n",
              "      <td>0</td>\n",
              "      <td>0</td>\n",
              "      <td>0</td>\n",
              "      <td>0</td>\n",
              "      <td>0</td>\n",
              "      <td>0</td>\n",
              "      <td>...</td>\n",
              "      <td>0</td>\n",
              "      <td>0</td>\n",
              "      <td>0</td>\n",
              "      <td>0</td>\n",
              "      <td>0</td>\n",
              "      <td>0</td>\n",
              "      <td>0</td>\n",
              "      <td>0</td>\n",
              "      <td>0</td>\n",
              "      <td>character_01_ka</td>\n",
              "    </tr>\n",
              "    <tr>\n",
              "      <th>4</th>\n",
              "      <td>0</td>\n",
              "      <td>0</td>\n",
              "      <td>0</td>\n",
              "      <td>0</td>\n",
              "      <td>0</td>\n",
              "      <td>0</td>\n",
              "      <td>0</td>\n",
              "      <td>0</td>\n",
              "      <td>0</td>\n",
              "      <td>0</td>\n",
              "      <td>...</td>\n",
              "      <td>0</td>\n",
              "      <td>0</td>\n",
              "      <td>0</td>\n",
              "      <td>0</td>\n",
              "      <td>0</td>\n",
              "      <td>0</td>\n",
              "      <td>0</td>\n",
              "      <td>0</td>\n",
              "      <td>0</td>\n",
              "      <td>character_01_ka</td>\n",
              "    </tr>\n",
              "  </tbody>\n",
              "</table>\n",
              "<p>5 rows × 1025 columns</p>\n",
              "</div>"
            ],
            "text/plain": [
              "   pixel_0000  pixel_0001  pixel_0002  pixel_0003  pixel_0004  pixel_0005  \\\n",
              "0           0           0           0           0           0           0   \n",
              "1           0           0           0           0           0           0   \n",
              "2           0           0           0           0           0           0   \n",
              "3           0           0           0           0           0           0   \n",
              "4           0           0           0           0           0           0   \n",
              "\n",
              "   pixel_0006  pixel_0007  pixel_0008  pixel_0009  ...  pixel_1015  \\\n",
              "0           0           0           0           0  ...           0   \n",
              "1           0           0           0           0  ...           0   \n",
              "2           0           0           0           0  ...           0   \n",
              "3           0           0           0           0  ...           0   \n",
              "4           0           0           0           0  ...           0   \n",
              "\n",
              "   pixel_1016  pixel_1017  pixel_1018  pixel_1019  pixel_1020  pixel_1021  \\\n",
              "0           0           0           0           0           0           0   \n",
              "1           0           0           0           0           0           0   \n",
              "2           0           0           0           0           0           0   \n",
              "3           0           0           0           0           0           0   \n",
              "4           0           0           0           0           0           0   \n",
              "\n",
              "   pixel_1022  pixel_1023        character  \n",
              "0           0           0  character_01_ka  \n",
              "1           0           0  character_01_ka  \n",
              "2           0           0  character_01_ka  \n",
              "3           0           0  character_01_ka  \n",
              "4           0           0  character_01_ka  \n",
              "\n",
              "[5 rows x 1025 columns]"
            ]
          },
          "metadata": {
            "tags": []
          },
          "execution_count": 32
        }
      ]
    },
    {
      "cell_type": "code",
      "metadata": {
        "id": "5vNnhFS4tZpF",
        "colab_type": "code",
        "colab": {}
      },
      "source": [
        "X = dataset.iloc[:,:-1]\n",
        "Y_d = dataset.iloc[:,-1]"
      ],
      "execution_count": 0,
      "outputs": []
    },
    {
      "cell_type": "code",
      "metadata": {
        "id": "nD9bhvYqtZpJ",
        "colab_type": "code",
        "colab": {}
      },
      "source": [
        "num_pixels = X.shape[1]\n",
        "num_classes = 46\n",
        "img_width = 32\n",
        "img_height = 32\n",
        "img_depth = 1"
      ],
      "execution_count": 0,
      "outputs": []
    },
    {
      "cell_type": "code",
      "metadata": {
        "id": "3JW-QKKJtZpN",
        "colab_type": "code",
        "colab": {}
      },
      "source": [
        "X_images = X.values.reshape(X.shape[0], img_width, img_height)"
      ],
      "execution_count": 0,
      "outputs": []
    },
    {
      "cell_type": "code",
      "metadata": {
        "id": "m-9fyBA9tZpS",
        "colab_type": "code",
        "colab": {},
        "outputId": "35ab8f5f-643d-45a6-ac29-534801fb5bd3"
      },
      "source": [
        "for i in range(1, 9):    \n",
        "    plt.subplot(240+i)\n",
        "    plt.axis('off')\n",
        "    plt.imshow(X_images[i-1], cmap=plt.get_cmap('gray'))\n",
        "plt.show()"
      ],
      "execution_count": 0,
      "outputs": [
        {
          "output_type": "display_data",
          "data": {
            "image/png": "[encoded data removed]",
            "text/plain": [
              "<Figure size 432x288 with 8 Axes>"
            ]
          },
          "metadata": {
            "tags": [],
            "needs_background": "light"
          }
        }
      ]
    },
    {
      "cell_type": "code",
      "metadata": {
        "id": "_hR5jiWntZpV",
        "colab_type": "code",
        "colab": {},
        "outputId": "03598abd-2d06-4f1b-bd3c-d21bb6c697ab"
      },
      "source": [
        "dataset.iloc[:,1024].value_counts()"
      ],
      "execution_count": 0,
      "outputs": [
        {
          "output_type": "execute_result",
          "data": {
            "text/plain": [
              "character_35_tra             2000\n",
              "character_07_chha            2000\n",
              "character_21_pa              2000\n",
              "character_14_dhaa            2000\n",
              "digit_6                      2000\n",
              "character_11_taamatar        2000\n",
              "character_34_chhya           2000\n",
              "character_19_dha             2000\n",
              "character_36_gya             2000\n",
              "character_20_na              2000\n",
              "character_16_tabala          2000\n",
              "character_01_ka              2000\n",
              "digit_2                      2000\n",
              "character_08_ja              2000\n",
              "digit_1                      2000\n",
              "digit_5                      2000\n",
              "digit_0                      2000\n",
              "character_32_patalosaw       2000\n",
              "character_04_gha             2000\n",
              "character_10_yna             2000\n",
              "character_31_petchiryakha    2000\n",
              "character_02_kha             2000\n",
              "character_23_ba              2000\n",
              "character_03_ga              2000\n",
              "digit_9                      2000\n",
              "digit_8                      2000\n",
              "character_33_ha              2000\n",
              "character_09_jha             2000\n",
              "character_28_la              2000\n",
              "character_12_thaa            2000\n",
              "character_17_tha             2000\n",
              "character_26_yaw             2000\n",
              "character_24_bha             2000\n",
              "character_29_waw             2000\n",
              "character_18_da              2000\n",
              "character_05_kna             2000\n",
              "digit_3                      2000\n",
              "character_13_daa             2000\n",
              "digit_7                      2000\n",
              "character_25_ma              2000\n",
              "digit_4                      2000\n",
              "character_22_pha             2000\n",
              "character_30_motosaw         2000\n",
              "character_27_ra              2000\n",
              "character_15_adna            2000\n",
              "character_06_cha             2000\n",
              "Name: character, dtype: int64"
            ]
          },
          "metadata": {
            "tags": []
          },
          "execution_count": 8
        }
      ]
    },
    {
      "cell_type": "code",
      "metadata": {
        "id": "dCcTAVehtZpZ",
        "colab_type": "code",
        "colab": {},
        "outputId": "96f09369-722d-4b0b-9fad-7c234431a5d9"
      },
      "source": [
        "rows_to_remove = np.where(dataset.iloc[:,1024].values==1024)\n",
        "rows_to_remove"
      ],
      "execution_count": 0,
      "outputs": [
        {
          "output_type": "execute_result",
          "data": {
            "text/plain": [
              "(array([], dtype=int64),)"
            ]
          },
          "metadata": {
            "tags": []
          },
          "execution_count": 37
        }
      ]
    },
    {
      "cell_type": "code",
      "metadata": {
        "id": "d0NOnIJEtZpd",
        "colab_type": "code",
        "colab": {},
        "outputId": "531c3fb9-5e41-4834-b1c2-1866a02e9bb3"
      },
      "source": [
        "plt.imshow(X_images[2000], cmap=plt.get_cmap('gray'))\n",
        "plt.axis('off')\n",
        "plt.show()"
      ],
      "execution_count": 0,
      "outputs": [
        {
          "output_type": "display_data",
          "data": {
            "image/png": "[encoded data removed]",
            "text/plain": [
              "<Figure size 432x288 with 1 Axes>"
            ]
          },
          "metadata": {
            "tags": [],
            "needs_background": "light"
          }
        }
      ]
    },
    {
      "cell_type": "code",
      "metadata": {
        "id": "ff58mz5StZpm",
        "colab_type": "code",
        "colab": {}
      },
      "source": [
        "dataset = dataset.drop(dataset.index[rows_to_remove[0]])"
      ],
      "execution_count": 0,
      "outputs": []
    },
    {
      "cell_type": "code",
      "metadata": {
        "id": "wgfgGWdxtZpp",
        "colab_type": "code",
        "colab": {}
      },
      "source": [
        "X = dataset.iloc[:,:-1]\n",
        "X_images = X.values.reshape(X.shape[0], img_width, img_height)\n",
        "Y_d = dataset.iloc[:,-1]"
      ],
      "execution_count": 0,
      "outputs": []
    },
    {
      "cell_type": "code",
      "metadata": {
        "id": "eLBhz79NtZpu",
        "colab_type": "code",
        "colab": {}
      },
      "source": [
        "from sklearn.preprocessing import LabelBinarizer\n",
        "binencoder = LabelBinarizer()\n",
        "Y = binencoder.fit_transform(Y_d)"
      ],
      "execution_count": 0,
      "outputs": []
    },
    {
      "cell_type": "code",
      "metadata": {
        "id": "qGeXQyqStZpx",
        "colab_type": "code",
        "colab": {}
      },
      "source": [
        "X = X / 255"
      ],
      "execution_count": 0,
      "outputs": []
    },
    {
      "cell_type": "code",
      "metadata": {
        "id": "b2s1VKlFtZp1",
        "colab_type": "code",
        "colab": {}
      },
      "source": [
        "seed = 256 \n",
        "X_train, X_test, y_train, y_test = train_test_split(X, Y, test_size=0.30, random_state=seed)"
      ],
      "execution_count": 0,
      "outputs": []
    },
    {
      "cell_type": "code",
      "metadata": {
        "id": "F0a65hI1tZp5",
        "colab_type": "code",
        "colab": {}
      },
      "source": [
        "def baseline_model():\n",
        "    model = Sequential()\n",
        "    model.add(Dense(num_pixels, input_dim=num_pixels, kernel_initializer='normal', activation='relu'))\n",
        "    model.add(Dense(num_classes, kernel_initializer='normal', activation='softmax'))\n",
        "    # Compile model\n",
        "    model.compile(loss='categorical_crossentropy', optimizer='adam', metrics=['accuracy'])\n",
        "    return model"
      ],
      "execution_count": 0,
      "outputs": []
    },
    {
      "cell_type": "code",
      "metadata": {
        "id": "oemsR_QVtZp9",
        "colab_type": "code",
        "colab": {},
        "outputId": "879cc152-53bc-492e-98d8-c492372e47c7"
      },
      "source": [
        "model = baseline_model()\n",
        "\n",
        "epochs = 10\n",
        "batch_size = 400\n",
        "history = model.fit(X_train.values, y_train, validation_split=0.20, epochs=epochs, batch_size=batch_size, verbose=2)"
      ],
      "execution_count": 0,
      "outputs": [
        {
          "output_type": "stream",
          "text": [
            "Train on 51520 samples, validate on 12880 samples\n",
            "Epoch 1/10\n",
            " - 21s - loss: 1.3101 - accuracy: 0.6548 - val_loss: 0.8377 - val_accuracy: 0.7794\n",
            "Epoch 2/10\n",
            " - 6s - loss: 0.6407 - accuracy: 0.8314 - val_loss: 0.5760 - val_accuracy: 0.8470\n",
            "Epoch 3/10\n",
            " - 6s - loss: 0.4107 - accuracy: 0.8953 - val_loss: 0.4532 - val_accuracy: 0.8772\n",
            "Epoch 4/10\n",
            " - 7s - loss: 0.2859 - accuracy: 0.9289 - val_loss: 0.3795 - val_accuracy: 0.8975\n",
            "Epoch 5/10\n",
            " - 7s - loss: 0.2052 - accuracy: 0.9511 - val_loss: 0.3253 - val_accuracy: 0.9127\n",
            "Epoch 6/10\n",
            " - 6s - loss: 0.1490 - accuracy: 0.9675 - val_loss: 0.3057 - val_accuracy: 0.9155\n",
            "Epoch 7/10\n",
            " - 7s - loss: 0.1110 - accuracy: 0.9770 - val_loss: 0.2890 - val_accuracy: 0.9206\n",
            "Epoch 8/10\n",
            " - 7s - loss: 0.0834 - accuracy: 0.9858 - val_loss: 0.2713 - val_accuracy: 0.9252\n",
            "Epoch 9/10\n",
            " - 7s - loss: 0.0617 - accuracy: 0.9912 - val_loss: 0.2642 - val_accuracy: 0.9280\n",
            "Epoch 10/10\n",
            " - 7s - loss: 0.0454 - accuracy: 0.9951 - val_loss: 0.2555 - val_accuracy: 0.9304\n"
          ],
          "name": "stdout"
        }
      ]
    },
    {
      "cell_type": "code",
      "metadata": {
        "id": "c0PRUsb6tZqA",
        "colab_type": "code",
        "colab": {},
        "outputId": "3dbf4e87-f224-47aa-ce02-3ff11b73da82"
      },
      "source": [
        "scores = model.evaluate(X_test.values, y_test, verbose=0)\n",
        "print(\"Accuracy: %.2f%%\" % (scores[1]*100))"
      ],
      "execution_count": 0,
      "outputs": [
        {
          "output_type": "stream",
          "text": [
            "Accuracy: 92.80%\n"
          ],
          "name": "stdout"
        }
      ]
    },
    {
      "cell_type": "code",
      "metadata": {
        "id": "wc1r5CwNtZqD",
        "colab_type": "code",
        "colab": {},
        "outputId": "a739de9b-558a-4d64-f5b3-0b36e71c8ea2"
      },
      "source": [
        "plt.plot(history.history['accuracy'])\n",
        "plt.plot(history.history['val_accuracy'])\n",
        "plt.title('model accuracy')\n",
        "plt.ylabel('accuracy')\n",
        "plt.xlabel('epoch')\n",
        "plt.legend(['train', 'validation'], loc='upper left')\n",
        "plt.show()\n",
        "# summarize history for loss\n",
        "plt.plot(history.history['loss'])\n",
        "plt.plot(history.history['val_loss'])\n",
        "plt.title('model loss')\n",
        "plt.ylabel('loss')\n",
        "plt.xlabel('epoch')\n",
        "\n",
        "plt.legend(['train', 'validation'], loc='upper left')\n",
        "plt.show()"
      ],
      "execution_count": 0,
      "outputs": [
        {
          "output_type": "display_data",
          "data": {
            "image/png": "[encoded data removed]",
            "text/plain": [
              "<Figure size 432x288 with 1 Axes>"
            ]
          },
          "metadata": {
            "tags": [],
            "needs_background": "light"
          }
        },
        {
          "output_type": "display_data",
          "data": {
            "image/png": "[encoded data removed]",
            "text/plain": [
              "<Figure size 432x288 with 1 Axes>"
            ]
          },
          "metadata": {
            "tags": [],
            "needs_background": "light"
          }
        }
      ]
    },
    {
      "cell_type": "code",
      "metadata": {
        "id": "KJDf12hGtZqG",
        "colab_type": "code",
        "colab": {}
      },
      "source": [
        "seed = 123 \n",
        "X_train, X_test, y_train, y_test = train_test_split(X_images, Y, test_size=0.20, random_state=seed)\n",
        "\n",
        "X_train = X_train/255\n",
        "X_test = X_test/255"
      ],
      "execution_count": 0,
      "outputs": []
    },
    {
      "cell_type": "code",
      "metadata": {
        "id": "hJutj887tZqJ",
        "colab_type": "code",
        "colab": {}
      },
      "source": [
        "X_train = X_train.reshape(X_train.shape[0], img_width, img_height, img_depth).astype('float32')\n",
        "X_test = X_test.reshape(X_test.shape[0], img_width, img_height, img_depth).astype('float32')"
      ],
      "execution_count": 0,
      "outputs": []
    },
    {
      "cell_type": "code",
      "metadata": {
        "id": "bEsvSOo0tZqM",
        "colab_type": "code",
        "colab": {}
      },
      "source": [
        "def cnn_model():\n",
        "    model = Sequential()\n",
        "    model.add(Conv2D(32, (4, 4), input_shape=(img_height, img_width, img_depth), \n",
        "                     activation='relu', name=\"conv_1\"))\n",
        "    model.add(MaxPooling2D(pool_size=(2, 2), name=\"pool_1\"))\n",
        "    model.add(Conv2D(64, (3, 3), activation='relu', name=\"conv_2\"))\n",
        "    model.add(MaxPooling2D(pool_size=(2, 2), name=\"pool_2\"))\n",
        "    model.add(Dropout(0.2))\n",
        "    model.add(Flatten())\n",
        "    model.add(Dense(128, activation='relu', name=\"dense_1\"))\n",
        "    model.add(Dense(50, activation='relu', name=\"dense_2\"))\n",
        "    model.add(Dense(num_classes, activation='softmax', name=\"modeloutput\"))\n",
        "    \n",
        "    model.compile(loss='categorical_crossentropy', optimizer='adam', metrics=['accuracy'])\n",
        "    return model"
      ],
      "execution_count": 0,
      "outputs": []
    },
    {
      "cell_type": "code",
      "metadata": {
        "id": "kVdrn_YvtZqP",
        "colab_type": "code",
        "colab": {},
        "outputId": "13494505-d959-41b3-bc78-3ecca6e6e15d"
      },
      "source": [
        "model = cnn_model()\n",
        "\n",
        "early_stopping_monitor = EarlyStopping(patience=2)\n",
        "\n",
        "epochs = 10\n",
        "batch_size = 200\n",
        "history = model.fit(X_train, y_train, validation_split=0.20, epochs=epochs, batch_size=batch_size, \n",
        "                    callbacks=[early_stopping_monitor], verbose=2)"
      ],
      "execution_count": 0,
      "outputs": [
        {
          "output_type": "stream",
          "text": [
            "W0123 17:27:37.424266 19896 deprecation_wrapper.py:119] From C:\\Users\\My PC\\Anaconda3\\lib\\site-packages\\keras\\backend\\tensorflow_backend.py:4070: The name tf.nn.max_pool is deprecated. Please use tf.nn.max_pool2d instead.\n",
            "\n"
          ],
          "name": "stderr"
        },
        {
          "output_type": "stream",
          "text": [
            "Train on 58880 samples, validate on 14720 samples\n",
            "Epoch 1/10\n",
            " - 55s - loss: 1.2450 - accuracy: 0.6605 - val_loss: 0.3945 - val_accuracy: 0.8859\n",
            "Epoch 2/10\n",
            " - 56s - loss: 0.3232 - accuracy: 0.9042 - val_loss: 0.2383 - val_accuracy: 0.9297\n",
            "Epoch 3/10\n",
            " - 55s - loss: 0.2049 - accuracy: 0.9388 - val_loss: 0.1883 - val_accuracy: 0.9437\n",
            "Epoch 4/10\n",
            " - 56s - loss: 0.1511 - accuracy: 0.9543 - val_loss: 0.1496 - val_accuracy: 0.9556\n",
            "Epoch 5/10\n",
            " - 55s - loss: 0.1186 - accuracy: 0.9635 - val_loss: 0.1369 - val_accuracy: 0.9578\n",
            "Epoch 6/10\n",
            " - 54s - loss: 0.0928 - accuracy: 0.9713 - val_loss: 0.1275 - val_accuracy: 0.9616\n",
            "Epoch 7/10\n",
            " - 56s - loss: 0.0804 - accuracy: 0.9748 - val_loss: 0.1210 - val_accuracy: 0.9639\n",
            "Epoch 8/10\n",
            " - 69s - loss: 0.0682 - accuracy: 0.9778 - val_loss: 0.1209 - val_accuracy: 0.9656\n",
            "Epoch 9/10\n",
            " - 61s - loss: 0.0573 - accuracy: 0.9807 - val_loss: 0.1046 - val_accuracy: 0.9701\n",
            "Epoch 10/10\n",
            " - 53s - loss: 0.0508 - accuracy: 0.9833 - val_loss: 0.1039 - val_accuracy: 0.9704\n"
          ],
          "name": "stdout"
        }
      ]
    },
    {
      "cell_type": "code",
      "metadata": {
        "id": "TrimVjeJtZqT",
        "colab_type": "code",
        "colab": {},
        "outputId": "ce27dabe-97f5-4315-eb13-4ace7fee63e6"
      },
      "source": [
        "scores = model.evaluate(X_test, y_test, verbose=0)\n",
        "print(\"Accuracy: %.2f%%\" % (scores[1]*100))"
      ],
      "execution_count": 0,
      "outputs": [
        {
          "output_type": "stream",
          "text": [
            "Accuracy: 97.00%\n"
          ],
          "name": "stdout"
        }
      ]
    },
    {
      "cell_type": "code",
      "metadata": {
        "id": "Adj8c5W3tZqV",
        "colab_type": "code",
        "colab": {},
        "outputId": "5f10455c-d2a5-46cf-b2ab-fd1ed1943afb"
      },
      "source": [
        "plt.plot(history.history['accuracy'])\n",
        "plt.plot(history.history['val_accuracy'])\n",
        "plt.title('model accuracy')\n",
        "plt.ylabel('accuracy')\n",
        "plt.xlabel('epoch')\n",
        "plt.legend(['train', 'validation'], loc='upper left')\n",
        "plt.show()\n",
        "# summarize history for loss\n",
        "plt.plot(history.history['loss'])\n",
        "plt.plot(history.history['val_loss'])\n",
        "plt.title('model loss')\n",
        "plt.ylabel('loss')\n",
        "plt.xlabel('epoch')\n",
        "\n",
        "plt.legend(['train', 'validation'], loc='upper left')\n",
        "plt.show()"
      ],
      "execution_count": 0,
      "outputs": [
        {
          "output_type": "display_data",
          "data": {
            "image/png": "[encoded data removed]",
            "text/plain": [
              "<Figure size 432x288 with 1 Axes>"
            ]
          },
          "metadata": {
            "tags": [],
            "needs_background": "light"
          }
        },
        {
          "output_type": "display_data",
          "data": {
            "image/png": "[encoded data removed]",
            "text/plain": [
              "<Figure size 432x288 with 1 Axes>"
            ]
          },
          "metadata": {
            "tags": [],
            "needs_background": "light"
          }
        }
      ]
    },
    {
      "cell_type": "code",
      "metadata": {
        "id": "yl5pAuMJtZqY",
        "colab_type": "code",
        "colab": {}
      },
      "source": [
        ""
      ],
      "execution_count": 0,
      "outputs": []
    }
  ]
}