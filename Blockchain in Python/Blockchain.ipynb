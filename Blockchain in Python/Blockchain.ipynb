{
 "cells": [
  {
   "cell_type": "markdown",
   "metadata": {},
   "source": [
    "# Blockchain Implementation in Python Programming Language"
   ]
  },
  {
   "cell_type": "markdown",
   "metadata": {},
   "source": [
    "#### Importing Necessary Modules"
   ]
  },
  {
   "cell_type": "code",
   "execution_count": 15,
   "metadata": {},
   "outputs": [],
   "source": [
    "import re, copy\n",
    "import pandas as pd\n",
    "import numpy as np\n",
    "import hashlib\n",
    "import pprint\n",
    "pp = pprint.PrettyPrinter(indent=0)"
   ]
  },
  {
   "cell_type": "markdown",
   "metadata": {},
   "source": [
    "#### Creating a Time-Stamped Transaction "
   ]
  },
  {
   "cell_type": "code",
   "execution_count": 16,
   "metadata": {},
   "outputs": [],
   "source": [
    "txn_example = pd.DataFrame([{'timestamp' : pd.Timestamp.now(),\n",
    "                            'to_account' : 'Harsh',\n",
    "                            'from_account' : 'Hrituraj',\n",
    "                            'amount' : 3000}])"
   ]
  },
  {
   "cell_type": "code",
   "execution_count": 17,
   "metadata": {},
   "outputs": [
    {
     "data": {
      "text/html": [
       "<div>\n",
       "<style scoped>\n",
       "    .dataframe tbody tr th:only-of-type {\n",
       "        vertical-align: middle;\n",
       "    }\n",
       "\n",
       "    .dataframe tbody tr th {\n",
       "        vertical-align: top;\n",
       "    }\n",
       "\n",
       "    .dataframe thead th {\n",
       "        text-align: right;\n",
       "    }\n",
       "</style>\n",
       "<table border=\"1\" class=\"dataframe\">\n",
       "  <thead>\n",
       "    <tr style=\"text-align: right;\">\n",
       "      <th></th>\n",
       "      <th>amount</th>\n",
       "      <th>from_account</th>\n",
       "      <th>timestamp</th>\n",
       "      <th>to_account</th>\n",
       "    </tr>\n",
       "  </thead>\n",
       "  <tbody>\n",
       "    <tr>\n",
       "      <th>0</th>\n",
       "      <td>3000</td>\n",
       "      <td>Hrituraj</td>\n",
       "      <td>2019-10-25 16:34:21.848698</td>\n",
       "      <td>Harsh</td>\n",
       "    </tr>\n",
       "  </tbody>\n",
       "</table>\n",
       "</div>"
      ],
      "text/plain": [
       "   amount from_account                  timestamp to_account\n",
       "0    3000     Hrituraj 2019-10-25 16:34:21.848698      Harsh"
      ]
     },
     "execution_count": 17,
     "metadata": {},
     "output_type": "execute_result"
    }
   ],
   "source": [
    "txn_example"
   ]
  },
  {
   "cell_type": "markdown",
   "metadata": {},
   "source": [
    "#### Generating Transactions on the Ledger "
   ]
  },
  {
   "cell_type": "code",
   "execution_count": 18,
   "metadata": {},
   "outputs": [],
   "source": [
    "def transaction(from_account, to_account, amount):\n",
    "    if isinstance(amount, int) or isinstance(amount, float):\n",
    "        new_txt = pd.DataFrame([{'timestamp' : pd.Timestamp.now(),\n",
    "                            'from_account' : from_account,\n",
    "                            'to_account' : to_account,\n",
    "                            'amount' : amount}])\n",
    "        return new_txt\n",
    "    else:\n",
    "        print('Amount must be numeric')"
   ]
  },
  {
   "cell_type": "code",
   "execution_count": 19,
   "metadata": {},
   "outputs": [],
   "source": [
    "ldgr_txn_genesis = transaction(from_account='Harikrishna', \n",
    "                               to_account = 'Hrituraj',\n",
    "                               amount = 5000\n",
    "                              )"
   ]
  },
  {
   "cell_type": "code",
   "execution_count": 20,
   "metadata": {},
   "outputs": [
    {
     "data": {
      "text/html": [
       "<div>\n",
       "<style scoped>\n",
       "    .dataframe tbody tr th:only-of-type {\n",
       "        vertical-align: middle;\n",
       "    }\n",
       "\n",
       "    .dataframe tbody tr th {\n",
       "        vertical-align: top;\n",
       "    }\n",
       "\n",
       "    .dataframe thead th {\n",
       "        text-align: right;\n",
       "    }\n",
       "</style>\n",
       "<table border=\"1\" class=\"dataframe\">\n",
       "  <thead>\n",
       "    <tr style=\"text-align: right;\">\n",
       "      <th></th>\n",
       "      <th>amount</th>\n",
       "      <th>from_account</th>\n",
       "      <th>timestamp</th>\n",
       "      <th>to_account</th>\n",
       "    </tr>\n",
       "  </thead>\n",
       "  <tbody>\n",
       "    <tr>\n",
       "      <th>0</th>\n",
       "      <td>5000</td>\n",
       "      <td>Harikrishna</td>\n",
       "      <td>2019-10-25 16:34:22.299407</td>\n",
       "      <td>Hrituraj</td>\n",
       "    </tr>\n",
       "  </tbody>\n",
       "</table>\n",
       "</div>"
      ],
      "text/plain": [
       "   amount from_account                  timestamp to_account\n",
       "0    5000  Harikrishna 2019-10-25 16:34:22.299407   Hrituraj"
      ]
     },
     "execution_count": 20,
     "metadata": {},
     "output_type": "execute_result"
    }
   ],
   "source": [
    "ledger = ldgr_txn_genesis\n",
    "ledger"
   ]
  },
  {
   "cell_type": "markdown",
   "metadata": {},
   "source": [
    "#### Balancing the Account on Ledger "
   ]
  },
  {
   "cell_type": "code",
   "execution_count": 21,
   "metadata": {},
   "outputs": [],
   "source": [
    "def get_balance_ldgr(ledger, account):\n",
    "    deposits = ledger[ledger.to_account == account]['amount']\n",
    "    total_deposits = deposits.sum()\n",
    "    \n",
    "    withdrawls = ledger[ledger.from_account == account]['amount']\n",
    "    total_withdrawls = withdrawls.sum()\n",
    "    \n",
    "    balance = total_deposits - total_withdrawls\n",
    "    \n",
    "    return balance"
   ]
  },
  {
   "cell_type": "code",
   "execution_count": 22,
   "metadata": {},
   "outputs": [
    {
     "data": {
      "text/plain": [
       "5000"
      ]
     },
     "execution_count": 22,
     "metadata": {},
     "output_type": "execute_result"
    }
   ],
   "source": [
    "get_balance_ldgr(ldgr_txn_genesis, 'Hrituraj')"
   ]
  },
  {
   "cell_type": "code",
   "execution_count": 23,
   "metadata": {},
   "outputs": [
    {
     "data": {
      "text/html": [
       "<div>\n",
       "<style scoped>\n",
       "    .dataframe tbody tr th:only-of-type {\n",
       "        vertical-align: middle;\n",
       "    }\n",
       "\n",
       "    .dataframe tbody tr th {\n",
       "        vertical-align: top;\n",
       "    }\n",
       "\n",
       "    .dataframe thead th {\n",
       "        text-align: right;\n",
       "    }\n",
       "</style>\n",
       "<table border=\"1\" class=\"dataframe\">\n",
       "  <thead>\n",
       "    <tr style=\"text-align: right;\">\n",
       "      <th></th>\n",
       "      <th>amount</th>\n",
       "      <th>from_account</th>\n",
       "      <th>timestamp</th>\n",
       "      <th>to_account</th>\n",
       "    </tr>\n",
       "  </thead>\n",
       "  <tbody>\n",
       "    <tr>\n",
       "      <th>0</th>\n",
       "      <td>4000</td>\n",
       "      <td>Hrituraj</td>\n",
       "      <td>2019-10-25 16:34:24.175365</td>\n",
       "      <td>Harsh</td>\n",
       "    </tr>\n",
       "  </tbody>\n",
       "</table>\n",
       "</div>"
      ],
      "text/plain": [
       "   amount from_account                  timestamp to_account\n",
       "0    4000     Hrituraj 2019-10-25 16:34:24.175365      Harsh"
      ]
     },
     "execution_count": 23,
     "metadata": {},
     "output_type": "execute_result"
    }
   ],
   "source": [
    "ldgr_txn_hritu2harsh = transaction(from_account = 'Hrituraj',\n",
    "                                  to_account = 'Harsh',\n",
    "                                  amount = 4000\n",
    "                                 )\n",
    "ldgr_txn_hritu2harsh"
   ]
  },
  {
   "cell_type": "code",
   "execution_count": 24,
   "metadata": {},
   "outputs": [
    {
     "data": {
      "text/html": [
       "<div>\n",
       "<style scoped>\n",
       "    .dataframe tbody tr th:only-of-type {\n",
       "        vertical-align: middle;\n",
       "    }\n",
       "\n",
       "    .dataframe tbody tr th {\n",
       "        vertical-align: top;\n",
       "    }\n",
       "\n",
       "    .dataframe thead th {\n",
       "        text-align: right;\n",
       "    }\n",
       "</style>\n",
       "<table border=\"1\" class=\"dataframe\">\n",
       "  <thead>\n",
       "    <tr style=\"text-align: right;\">\n",
       "      <th></th>\n",
       "      <th>amount</th>\n",
       "      <th>from_account</th>\n",
       "      <th>timestamp</th>\n",
       "      <th>to_account</th>\n",
       "    </tr>\n",
       "  </thead>\n",
       "  <tbody>\n",
       "    <tr>\n",
       "      <th>0</th>\n",
       "      <td>5000</td>\n",
       "      <td>Harikrishna</td>\n",
       "      <td>2019-10-25 16:34:22.299407</td>\n",
       "      <td>Hrituraj</td>\n",
       "    </tr>\n",
       "    <tr>\n",
       "      <th>0</th>\n",
       "      <td>4000</td>\n",
       "      <td>Hrituraj</td>\n",
       "      <td>2019-10-25 16:34:24.175365</td>\n",
       "      <td>Harsh</td>\n",
       "    </tr>\n",
       "  </tbody>\n",
       "</table>\n",
       "</div>"
      ],
      "text/plain": [
       "   amount from_account                  timestamp to_account\n",
       "0    5000  Harikrishna 2019-10-25 16:34:22.299407   Hrituraj\n",
       "0    4000     Hrituraj 2019-10-25 16:34:24.175365      Harsh"
      ]
     },
     "execution_count": 24,
     "metadata": {},
     "output_type": "execute_result"
    }
   ],
   "source": [
    "ledger = ledger.append(ldgr_txn_hritu2harsh)\n",
    "ledger"
   ]
  },
  {
   "cell_type": "code",
   "execution_count": 25,
   "metadata": {},
   "outputs": [
    {
     "name": "stdout",
     "output_type": "stream",
     "text": [
      "Balance of Harsh: 4000\n",
      "Balance of Hrituraj: 1000\n",
      "Balance of Rajput: 0\n"
     ]
    }
   ],
   "source": [
    "for account in ['Harsh', 'Hrituraj', 'Rajput']:\n",
    "    print('Balance of {}: {}'.format(account, \n",
    "                                     get_balance_ldgr(ledger, account)))"
   ]
  },
  {
   "cell_type": "code",
   "execution_count": 28,
   "metadata": {},
   "outputs": [],
   "source": [
    "ldgr_txn_harsh2rajput = transaction(from_account = 'Harsh',\n",
    "                                       to_account = 'Rajput',\n",
    "                                       amount = 5000\n",
    "                                      )"
   ]
  },
  {
   "cell_type": "code",
   "execution_count": 29,
   "metadata": {},
   "outputs": [
    {
     "data": {
      "text/html": [
       "<div>\n",
       "<style scoped>\n",
       "    .dataframe tbody tr th:only-of-type {\n",
       "        vertical-align: middle;\n",
       "    }\n",
       "\n",
       "    .dataframe tbody tr th {\n",
       "        vertical-align: top;\n",
       "    }\n",
       "\n",
       "    .dataframe thead th {\n",
       "        text-align: right;\n",
       "    }\n",
       "</style>\n",
       "<table border=\"1\" class=\"dataframe\">\n",
       "  <thead>\n",
       "    <tr style=\"text-align: right;\">\n",
       "      <th></th>\n",
       "      <th>amount</th>\n",
       "      <th>from_account</th>\n",
       "      <th>timestamp</th>\n",
       "      <th>to_account</th>\n",
       "    </tr>\n",
       "  </thead>\n",
       "  <tbody>\n",
       "    <tr>\n",
       "      <th>0</th>\n",
       "      <td>5000</td>\n",
       "      <td>Harikrishna</td>\n",
       "      <td>2019-10-25 16:34:22.299407</td>\n",
       "      <td>Hrituraj</td>\n",
       "    </tr>\n",
       "    <tr>\n",
       "      <th>0</th>\n",
       "      <td>4000</td>\n",
       "      <td>Hrituraj</td>\n",
       "      <td>2019-10-25 16:34:24.175365</td>\n",
       "      <td>Harsh</td>\n",
       "    </tr>\n",
       "    <tr>\n",
       "      <th>0</th>\n",
       "      <td>5000</td>\n",
       "      <td>Harsh</td>\n",
       "      <td>2019-10-25 16:35:55.224663</td>\n",
       "      <td>Rajput</td>\n",
       "    </tr>\n",
       "  </tbody>\n",
       "</table>\n",
       "</div>"
      ],
      "text/plain": [
       "   amount from_account                  timestamp to_account\n",
       "0    5000  Harikrishna 2019-10-25 16:34:22.299407   Hrituraj\n",
       "0    4000     Hrituraj 2019-10-25 16:34:24.175365      Harsh\n",
       "0    5000        Harsh 2019-10-25 16:35:55.224663     Rajput"
      ]
     },
     "execution_count": 29,
     "metadata": {},
     "output_type": "execute_result"
    }
   ],
   "source": [
    "ledger = ledger.append(ldgr_txn_harsh2rajput)\n",
    "ledger"
   ]
  },
  {
   "cell_type": "code",
   "execution_count": 30,
   "metadata": {},
   "outputs": [
    {
     "name": "stdout",
     "output_type": "stream",
     "text": [
      "Balance of Harsh: -1000\n",
      "Balance of Hrituraj: 1000\n",
      "Balance of Rajput: 5000\n"
     ]
    }
   ],
   "source": [
    "for account in ['Harsh', 'Hrituraj', 'Rajput']:\n",
    "    print('Balance of {}: {}'.format(account, \n",
    "                                     get_balance_ldgr(ledger, account)))"
   ]
  },
  {
   "cell_type": "markdown",
   "metadata": {},
   "source": [
    "#### Creating a Blockchain Ledger "
   ]
  },
  {
   "cell_type": "code",
   "execution_count": 31,
   "metadata": {},
   "outputs": [],
   "source": [
    "def transaction_bc(from_account, to_account, amount):\n",
    "    if isinstance(amount, int) or isinstance(amount, float):\n",
    "        transaction_dict = {'timestamp' : pd.Timestamp.now(),\n",
    "                            'from_account' : from_account,\n",
    "                            'to_account' : to_account,\n",
    "                            'amount' : amount}\n",
    "        return transaction_dict\n",
    "    else:\n",
    "        print('Amount must be numeric')"
   ]
  },
  {
   "cell_type": "code",
   "execution_count": 32,
   "metadata": {},
   "outputs": [],
   "source": [
    "mayank_transaction = transaction_bc(from_account='Mayank', \n",
    "                                              to_account = 'Hrituraj',\n",
    "                                              amount = 2000\n",
    "                                     )\n",
    "\n",
    "mayank_block = {'transactions' : mayank_transaction,\n",
    "                 'prev_hash' : None,\n",
    "                 'proof_of_work' : 0\n",
    "                }"
   ]
  },
  {
   "cell_type": "code",
   "execution_count": 33,
   "metadata": {},
   "outputs": [
    {
     "name": "stdout",
     "output_type": "stream",
     "text": [
      "[{'prev_hash': None,\n",
      "'proof_of_work': 0,\n",
      "'transactions': {'amount': 2000,\n",
      "                'from_account': 'Mayank',\n",
      "                'timestamp': Timestamp('2019-10-25 16:38:10.690798'),\n",
      "                'to_account': 'Hrituraj'}}]\n"
     ]
    }
   ],
   "source": [
    "blockchain = [mayank_block]\n",
    "pp.pprint(blockchain)"
   ]
  },
  {
   "cell_type": "markdown",
   "metadata": {},
   "source": [
    "#### Using Hashing Function to mask the Transactions "
   ]
  },
  {
   "cell_type": "code",
   "execution_count": 34,
   "metadata": {},
   "outputs": [],
   "source": [
    "def hash_sha256(obj):\n",
    "    return hashlib.sha256(str(obj).encode('utf-8')).hexdigest()"
   ]
  },
  {
   "cell_type": "code",
   "execution_count": 35,
   "metadata": {},
   "outputs": [
    {
     "data": {
      "text/plain": [
       "'ad4e68b523581ad374171ce2af3d5c78827f73061f5b8f77be560ce9c7992219'"
      ]
     },
     "execution_count": 35,
     "metadata": {},
     "output_type": "execute_result"
    }
   ],
   "source": [
    "mayank_hash = hash_sha256(mayank_block)\n",
    "mayank_hash"
   ]
  },
  {
   "cell_type": "markdown",
   "metadata": {},
   "source": [
    "#### Validation Function"
   ]
  },
  {
   "cell_type": "code",
   "execution_count": 36,
   "metadata": {},
   "outputs": [],
   "source": [
    "def is_valid_proof(last_proof, this_proof):\n",
    "    guess = str(last_proof) + str(this_proof)\n",
    "    guess_hash = hash_sha256(guess)\n",
    "    is_valid = bool(re.search('0{3}$',guess_hash))\n",
    "    return is_valid"
   ]
  },
  {
   "cell_type": "markdown",
   "metadata": {},
   "source": [
    "#### Proof-of-Work Function "
   ]
  },
  {
   "cell_type": "markdown",
   "metadata": {},
   "source": [
    "def proof_of_work(last_proof):\n",
    "    candidate_proof = 0\n",
    "    while not is_valid_proof(last_proof, candidate_proof):\n",
    "        candidate_proof += 1\n",
    "    return candidate_proof"
   ]
  },
  {
   "cell_type": "markdown",
   "metadata": {},
   "source": [
    "#### Account Balance on Blockchain"
   ]
  },
  {
   "cell_type": "code",
   "execution_count": 38,
   "metadata": {},
   "outputs": [],
   "source": [
    "def get_balance(blockchain, account):\n",
    "    ldgr_txns = []\n",
    "    for block in blockchain:\n",
    "        ldgr_txns.append(block['transactions'])\n",
    "        \n",
    "    balance = get_balance_ldgr(pd.DataFrame(ldgr_txns), account)\n",
    "    \n",
    "    return balance"
   ]
  },
  {
   "cell_type": "code",
   "execution_count": 45,
   "metadata": {},
   "outputs": [
    {
     "name": "stdout",
     "output_type": "stream",
     "text": [
      "5735\n"
     ]
    }
   ],
   "source": [
    "second_proof = proof_of_work(mayank_block['proof_of_work'])\n",
    "print(second_proof)"
   ]
  },
  {
   "cell_type": "code",
   "execution_count": 46,
   "metadata": {},
   "outputs": [
    {
     "data": {
      "text/plain": [
       "2000"
      ]
     },
     "execution_count": 46,
     "metadata": {},
     "output_type": "execute_result"
    }
   ],
   "source": [
    "get_balance(blockchain, 'Hrituraj')"
   ]
  },
  {
   "cell_type": "markdown",
   "metadata": {},
   "source": [
    "#### Creating New Block "
   ]
  },
  {
   "cell_type": "code",
   "execution_count": 47,
   "metadata": {},
   "outputs": [],
   "source": [
    "def create_block(txns, prev_hash = None, proof_of_work = None):\n",
    "    new_block = {'transactions' : txns, \n",
    "                 'prev_hash' : prev_hash,\n",
    "                 'proof_of_work' : proof_of_work}\n",
    "    return new_block"
   ]
  },
  {
   "cell_type": "code",
   "execution_count": 48,
   "metadata": {},
   "outputs": [],
   "source": [
    "txn_harsh = transaction_bc(from_account = 'Hrituraj',\n",
    "                         to_account = 'Harsh',\n",
    "                         amount = 900\n",
    "                        )  "
   ]
  },
  {
   "cell_type": "code",
   "execution_count": 49,
   "metadata": {},
   "outputs": [],
   "source": [
    "second_block = create_block(txns = txn_harsh, \n",
    "                            prev_hash = mayank_hash,\n",
    "                            proof_of_work = second_proof)"
   ]
  },
  {
   "cell_type": "code",
   "execution_count": 50,
   "metadata": {},
   "outputs": [],
   "source": [
    "def add_block_if_valid(blockchain, new_block):\n",
    "    new_blockchain = copy.deepcopy(blockchain)\n",
    "    \n",
    "    check_proof = is_valid_proof(blockchain[-1]['proof_of_work'], \n",
    "                                 new_block['proof_of_work'])\n",
    "    \n",
    "    last_hash = hash_sha256(blockchain[-1])\n",
    "    check_hash = last_hash == new_block['prev_hash']\n",
    "        \n",
    "    acct_balance = get_balance(blockchain, new_block['transactions']['from_account'])\n",
    "    check_balance = acct_balance > new_block['transactions']['amount']\n",
    "    \n",
    "    if check_proof and check_hash and check_balance:\n",
    "        new_blockchain.append(new_block)\n",
    "    else:\n",
    "        print('This block is not valid.')\n",
    "        \n",
    "    return new_blockchain"
   ]
  },
  {
   "cell_type": "code",
   "execution_count": 51,
   "metadata": {},
   "outputs": [
    {
     "name": "stdout",
     "output_type": "stream",
     "text": [
      "[{'prev_hash': None,\n",
      "'proof_of_work': 0,\n",
      "'transactions': {'amount': 2000,\n",
      "                'from_account': 'Mayank',\n",
      "                'timestamp': Timestamp('2019-10-25 16:38:10.690798'),\n",
      "                'to_account': 'Hrituraj'}},\n",
      "{'prev_hash': 'ad4e68b523581ad374171ce2af3d5c78827f73061f5b8f77be560ce9c7992219',\n",
      "'proof_of_work': 5735,\n",
      "'transactions': {'amount': 900,\n",
      "                'from_account': 'Hrituraj',\n",
      "                'timestamp': Timestamp('2019-10-25 16:42:07.020506'),\n",
      "                'to_account': 'Harsh'}}]\n"
     ]
    }
   ],
   "source": [
    "blockchain = add_block_if_valid(blockchain, second_block)\n",
    "pp.pprint(blockchain)"
   ]
  },
  {
   "cell_type": "code",
   "execution_count": 52,
   "metadata": {},
   "outputs": [],
   "source": [
    "txn_harsh = transaction_bc(from_account = 'Harsh',\n",
    "                        to_account = 'Harikrishna',\n",
    "                        amount = 300)"
   ]
  },
  {
   "cell_type": "code",
   "execution_count": 53,
   "metadata": {},
   "outputs": [],
   "source": [
    "third_block = create_block(txns = txn_harsh,\n",
    "                           prev_hash = hash_sha256(blockchain[-1]),\n",
    "                           proof_of_work = proof_of_work(blockchain[-1]['proof_of_work'])\n",
    "                          )"
   ]
  },
  {
   "cell_type": "code",
   "execution_count": 54,
   "metadata": {},
   "outputs": [
    {
     "data": {
      "text/plain": [
       "{'transactions': {'timestamp': Timestamp('2019-10-25 16:43:08.630424'),\n",
       "  'from_account': 'Harsh',\n",
       "  'to_account': 'Harikrishna',\n",
       "  'amount': 300},\n",
       " 'prev_hash': '939cee92a8d942038dccdcc9285b829b8063cd235b6bfdec54b8a9a68fcf4026',\n",
       " 'proof_of_work': 626}"
      ]
     },
     "execution_count": 54,
     "metadata": {},
     "output_type": "execute_result"
    }
   ],
   "source": [
    "third_block\n"
   ]
  },
  {
   "cell_type": "code",
   "execution_count": 55,
   "metadata": {},
   "outputs": [
    {
     "name": "stdout",
     "output_type": "stream",
     "text": [
      "[{'prev_hash': None,\n",
      "'proof_of_work': 0,\n",
      "'transactions': {'amount': 2000,\n",
      "                'from_account': 'Mayank',\n",
      "                'timestamp': Timestamp('2019-10-25 16:38:10.690798'),\n",
      "                'to_account': 'Hrituraj'}},\n",
      "{'prev_hash': 'ad4e68b523581ad374171ce2af3d5c78827f73061f5b8f77be560ce9c7992219',\n",
      "'proof_of_work': 5735,\n",
      "'transactions': {'amount': 900,\n",
      "                'from_account': 'Hrituraj',\n",
      "                'timestamp': Timestamp('2019-10-25 16:42:07.020506'),\n",
      "                'to_account': 'Harsh'}},\n",
      "{'prev_hash': '939cee92a8d942038dccdcc9285b829b8063cd235b6bfdec54b8a9a68fcf4026',\n",
      "'proof_of_work': 626,\n",
      "'transactions': {'amount': 300,\n",
      "                'from_account': 'Harsh',\n",
      "                'timestamp': Timestamp('2019-10-25 16:43:08.630424'),\n",
      "                'to_account': 'Harikrishna'}}]\n"
     ]
    }
   ],
   "source": [
    "blockchain = add_block_if_valid(blockchain, third_block)\n",
    "pp.pprint(blockchain)"
   ]
  },
  {
   "cell_type": "markdown",
   "metadata": {},
   "source": [
    "#### FInal Balance: "
   ]
  },
  {
   "cell_type": "code",
   "execution_count": 56,
   "metadata": {},
   "outputs": [
    {
     "name": "stdout",
     "output_type": "stream",
     "text": [
      "Balance of Harsh: 600\n",
      "Balance of Hrituraj: 1100\n",
      "Balance of Harikrishna: 300\n"
     ]
    }
   ],
   "source": [
    "for account in ['Harsh', 'Hrituraj', 'Harikrishna']:\n",
    "    print('Balance of {}: {}'.format(account, \n",
    "                                     get_balance(blockchain, account)))"
   ]
  },
  {
   "cell_type": "markdown",
   "metadata": {},
   "source": [
    "# END"
   ]
  }
 ],
 "metadata": {
  "kernelspec": {
   "display_name": "Python 3",
   "language": "python",
   "name": "python3"
  },
  "language_info": {
   "codemirror_mode": {
    "name": "ipython",
    "version": 3
   },
   "file_extension": ".py",
   "mimetype": "text/x-python",
   "name": "python",
   "nbconvert_exporter": "python",
   "pygments_lexer": "ipython3",
   "version": "3.7.3"
  }
 },
 "nbformat": 4,
 "nbformat_minor": 2
}
